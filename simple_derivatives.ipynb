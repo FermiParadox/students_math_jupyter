{
 "cells": [
  {
   "cell_type": "code",
   "execution_count": 4,
   "metadata": {},
   "outputs": [
    {
     "data": {
      "application/vnd.jupyter.widget-view+json": {
       "model_id": "9301a75feb284fe2b00fc84bdd9f3cf1",
       "version_major": 2,
       "version_minor": 0
      },
      "text/plain": [
       "HBox(children=(Label(value=\"$(7 x^{4})'$\"), VBox(children=(Button(description='Show answer', style=ButtonStyle…"
      ]
     },
     "metadata": {},
     "output_type": "display_data"
    }
   ],
   "source": [
    "from IPython.display import display, Math, Latex\n",
    "from sympy import symbols, diff, init_printing, latex, Pow, UnevaluatedExpr\n",
    "from ipywidgets import Button, HBox, VBox, Label\n",
    "from random import randint\n",
    "\n",
    "init_printing(use_unicode=True)\n",
    "\n",
    "\n",
    "x = symbols('x')\n",
    "\n",
    "\n",
    "def new_question():\n",
    "    while 1:\n",
    "        a = randint(-10, 10)\n",
    "        if a != 0:\n",
    "            break\n",
    "    return a * x ** randint(1, 10)\n",
    "\n",
    "\n",
    "question_label = Label()\n",
    "\n",
    "\n",
    "q_a_couple = dict(question_latex='', answer_latex='')\n",
    "\n",
    "\n",
    "def create_new_question_and_answer():\n",
    "    f = new_question()\n",
    "    a = diff(f)\n",
    "    q_a_couple['question_latex'] = \"$({})'$\".format(latex(f))\n",
    "    q_a_couple['answer_latex'] = '$${}$$'.format(latex(a))\n",
    "    question_label.value = q_a_couple['question_latex']\n",
    "\n",
    "create_new_question_and_answer()\n",
    "show_button = Button(description='Show answer')\n",
    "next_button = Button(description='Next')\n",
    "show_button.style.button_color = next_button.style.button_color = 'lightgreen'\n",
    "answer_label = Label('')\n",
    "\n",
    "\n",
    "def on_show_click(*args):\n",
    "    answer_label.value = q_a_couple['answer_latex']\n",
    "\n",
    "\n",
    "show_button.on_click(on_show_click)\n",
    "\n",
    "\n",
    "def on_next_click(*args):\n",
    "    answer_label.value = ''\n",
    "    create_new_question_and_answer()\n",
    "\n",
    "\n",
    "next_button.on_click(on_next_click)\n",
    "\n",
    "buttons_container = VBox([show_button, next_button])\n",
    "main_container = HBox([question_label, buttons_container, Label(value='Answer: '), answer_label])\n",
    "\n",
    "display(main_container)"
   ]
  }
 ],
 "metadata": {
  "kernelspec": {
   "display_name": "Python 3",
   "language": "python",
   "name": "python3"
  },
  "language_info": {
   "codemirror_mode": {
    "name": "ipython",
    "version": 3
   },
   "file_extension": ".py",
   "mimetype": "text/x-python",
   "name": "python",
   "nbconvert_exporter": "python",
   "pygments_lexer": "ipython3",
   "version": "3.5.2"
  }
 },
 "nbformat": 4,
 "nbformat_minor": 2
}
